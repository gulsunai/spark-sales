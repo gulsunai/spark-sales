{
  "nbformat": 4,
  "nbformat_minor": 0,
  "metadata": {
    "colab": {
      "provenance": []
    },
    "kernelspec": {
      "name": "python3",
      "display_name": "Python 3"
    },
    "language_info": {
      "name": "python"
    }
  },
  "cells": [
    {
      "cell_type": "code",
      "source": [
        "# Импорт необходимых библиотек Spark\n",
        "from pyspark.sql import SparkSession\n",
        "\n",
        "# Создание SparkSession\n",
        "spark = SparkSession.builder.appName(\"OnlineSalesAnalysis\").getOrCreate()\n",
        "\n",
        "# Создание DataFrame с встроенными данными\n",
        "data = spark.createDataFrame([\n",
        "    (1, \"2023-10-01 08:00:00\", 101, \"Телевизор\", 2, 500.00, 1000.00, \"Иван Иванов\", \"ул. Пушкина, 123\"),\n",
        "    (2, \"2023-10-01 09:30:00\", 102, \"Холодильник\", 1, 800.00, 800.00, \"Мария Петрова\", \"ул. Лермонтова, 456\"),\n",
        "    (3, \"2023-10-02 14:15:00\", 103, \"Стиральная машина\", 1, 700.00, 700.00, \"Петр Сидоров\", \"ул. Гоголя, 789\"),\n",
        "    (4, \"2023-10-02 16:45:00\", 101, \"Телевизор\", 1, 500.00, 500.00, \"Екатерина Иванова\", \"ул. Чехова, 101\"),\n",
        "    (5, \"2023-10-03 11:20:00\", 104, \"Микроволновка\", 3, 100.00, 300.00, \"Анна Смирнова\", \"ул. Достоевского, 246\")\n",
        "], [\"OrderID\", \"OrderDate\", \"ProductID\", \"ProductName\", \"Quantity\", \"Price\", \"TotalCost\", \"CustomerName\", \"CustomerAddress\"])\n",
        "\n",
        "# Создание Hive таблицы для данных\n",
        "data.createOrReplaceTempView(\"sales\")\n",
        "\n",
        "# Вывод общей выручки за каждый день\n",
        "revenue_per_day = spark.sql(\"SELECT SUBSTRING(OrderDate, 1, 10) as OrderDate, SUM(TotalCost) as revenue FROM sales GROUP BY SUBSTRING(OrderDate, 1, 10) ORDER BY OrderDate\")\n",
        "revenue_per_day.show()\n",
        "\n",
        "# Вывод самого продаваемого товара\n",
        "best_selling_product = spark.sql(\"SELECT ProductName, SUM(Quantity) as total_sold FROM sales GROUP BY ProductName ORDER BY total_sold DESC LIMIT 1\")\n",
        "best_selling_product.show()\n",
        "\n",
        "# Вывод общей выручки за весь период\n",
        "total_revenue = spark.sql(\"SELECT SUM(TotalCost) as total_revenue FROM sales\")\n",
        "total_revenue.show()\n",
        "\n",
        "# Закрытие SparkSession\n",
        "spark.stop()\n"
      ],
      "metadata": {
        "colab": {
          "base_uri": "https://localhost:8080/"
        },
        "id": "2WGX5ODli7tm",
        "outputId": "9d3ab415-4293-4fc6-ada8-dd8cc6ea3fad"
      },
      "execution_count": 7,
      "outputs": [
        {
          "output_type": "stream",
          "name": "stdout",
          "text": [
            "+----------+-------+\n",
            "| OrderDate|revenue|\n",
            "+----------+-------+\n",
            "|2023-10-01| 1800.0|\n",
            "|2023-10-02| 1200.0|\n",
            "|2023-10-03|  300.0|\n",
            "+----------+-------+\n",
            "\n",
            "+-----------+----------+\n",
            "|ProductName|total_sold|\n",
            "+-----------+----------+\n",
            "|  Телевизор|         3|\n",
            "+-----------+----------+\n",
            "\n",
            "+-------------+\n",
            "|total_revenue|\n",
            "+-------------+\n",
            "|       3300.0|\n",
            "+-------------+\n",
            "\n"
          ]
        }
      ]
    }
  ]
}